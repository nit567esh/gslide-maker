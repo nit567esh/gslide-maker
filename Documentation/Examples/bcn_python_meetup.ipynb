{
 "cells": [
  {
   "cell_type": "markdown",
   "metadata": {},
   "source": [
    "Presentation: https://tinyurl.com/yyuw6jf2\n",
    "This repo: "
   ]
  },
  {
   "cell_type": "code",
   "execution_count": 4,
   "metadata": {},
   "outputs": [],
   "source": [
    "import GoogleApiSupport.slides as slides"
   ]
  },
  {
   "cell_type": "code",
   "execution_count": 2,
   "metadata": {},
   "outputs": [],
   "source": [
    "PRESENTATION_ID = '1p0ouOWDZxX7QemDeNk976KiDp6ooWYEc9DhMcuOpY7U'"
   ]
  },
  {
   "cell_type": "code",
   "execution_count": 5,
   "metadata": {},
   "outputs": [
    {
     "data": {
      "text/plain": [
       "{'objectId': 'i0',\n",
       " 'size': {'width': {'magnitude': 3000000, 'unit': 'EMU'},\n",
       "  'height': {'magnitude': 3000000, 'unit': 'EMU'}},\n",
       " 'transform': {'scaleX': 2.8402,\n",
       "  'scaleY': 0.6842,\n",
       "  'translateX': 311708.35000000003,\n",
       "  'translateY': 744575,\n",
       "  'unit': 'EMU'},\n",
       " 'shape': {'shapeType': 'TEXT_BOX',\n",
       "  'text': {'textElements': [{'endIndex': 39,\n",
       "     'paragraphMarker': {'style': {'direction': 'LEFT_TO_RIGHT'}}},\n",
       "    {'endIndex': 39,\n",
       "     'textRun': {'content': 'Automatize reports using Google Slides\\n',\n",
       "      'style': {}}}]},\n",
       "  'shapeProperties': {'shapeBackgroundFill': {'propertyState': 'INHERIT'},\n",
       "   'outline': {'propertyState': 'INHERIT'},\n",
       "   'shadow': {'propertyState': 'INHERIT'}},\n",
       "  'placeholder': {'type': 'CENTERED_TITLE', 'parentObjectId': 'p2_i0'}}}"
      ]
     },
     "execution_count": 5,
     "metadata": {},
     "output_type": "execute_result"
    }
   ],
   "source": [
    "#gslides.presentation_info(PRESENTATION_ID)\n",
    "#gslides.presentation_info(PRESENTATION_ID)['slides']\n",
    "#gslides.presentation_info(PRESENTATION_ID)['slides'][0]\n",
    "slides.presentation_info(PRESENTATION_ID)['slides'][0]['pageElements'][0]"
   ]
  },
  {
   "cell_type": "code",
   "execution_count": null,
   "metadata": {},
   "outputs": [],
   "source": [
    "output_file = slides.copy_file(PRESENTATION_ID, 'Copy_test_1')\n",
    "print ('Output file id:', output_file)"
   ]
  },
  {
   "cell_type": "code",
   "execution_count": null,
   "metadata": {},
   "outputs": [],
   "source": [
    "folder_id = '129SE0R7kDx2peFNxGFj2GB2cbb875WRU'\n",
    "slides.move_file(output_file, folder_id)"
   ]
  },
  {
   "cell_type": "code",
   "execution_count": null,
   "metadata": {},
   "outputs": [],
   "source": [
    "#gslides.text_replace('main_title', 'This is my new title', output_file)\n",
    "slides.batch_text_replace(\n",
    "    {\n",
    "        'placeholder_1': 'Hola que tal',\n",
    "        'placeholder_2': 'Hola k ase',\n",
    "        'total_visits': '9000.00'\n",
    "    },\n",
    "    output_file\n",
    ")"
   ]
  },
  {
   "cell_type": "code",
   "execution_count": null,
   "metadata": {},
   "outputs": [],
   "source": [
    "slides.batch_replace_shape_with_image(\n",
    "    {\n",
    "        'image_1': 'http://i.stack.imgur.com/e8nZC.gif',\n",
    "        'image_2': 'https://s2.eestatic.com/2019/04/11/mundo/europa/Reino_Unido-Julian_Assange-Wikileaks-Europa_390222487_120175811_1024x576.jpg'\n",
    "    },\n",
    "    output_file\n",
    ")"
   ]
  },
  {
   "cell_type": "code",
   "execution_count": null,
   "metadata": {},
   "outputs": [],
   "source": [
    "upload_response = slides.upload_image_to_drive('graph', 'img/local_image_graph.png', folder_id)\n",
    "print(upload_response)"
   ]
  },
  {
   "cell_type": "code",
   "execution_count": null,
   "metadata": {},
   "outputs": [],
   "source": [
    "slides.replace_shape_with_image(upload_response['image_url'], output_file, 'graph_1')"
   ]
  },
  {
   "cell_type": "code",
   "execution_count": null,
   "metadata": {},
   "outputs": [],
   "source": [
    "slides.delete_file(file_id=upload_response['file_id'])"
   ]
  },
  {
   "cell_type": "code",
   "execution_count": null,
   "metadata": {},
   "outputs": [],
   "source": [
    "slide_by_id = [s for s in slides.presentation_info(output_file)['slides'] if (s['objectId'] == 'g5b626a4cca_2_142')][0]"
   ]
  },
  {
   "cell_type": "code",
   "execution_count": null,
   "metadata": {},
   "outputs": [],
   "source": [
    "notes_from_slide = slides.get_slide_notes(slide_by_id).strip()\n",
    "\n",
    "print(notes_from_slide)"
   ]
  },
  {
   "cell_type": "code",
   "execution_count": null,
   "metadata": {},
   "outputs": [],
   "source": [
    "exec(notes_from_slide)\n",
    "\n",
    "print(page_id, text_to_print)"
   ]
  },
  {
   "cell_type": "code",
   "execution_count": null,
   "metadata": {},
   "outputs": [],
   "source": [
    "slides.text_replace('text_in_notes', text_to_print, output_file)"
   ]
  },
  {
   "cell_type": "code",
   "execution_count": null,
   "metadata": {},
   "outputs": [],
   "source": [
    "to_delete = False\n",
    "for slide in slides.presentation_info(output_file)['slides']:\n",
    "    try: #  Can explode easily\n",
    "        exec(slides.get_slide_notes(slide))\n",
    "    except Exception as e:\n",
    "        print(e)\n",
    "        \n",
    "    if to_delete:\n",
    "        print('Deleting page ' + slide['objectId'] + '...')\n",
    "        slides.delete_object(output_file, slide['objectId'])\n",
    "        to_delete = False"
   ]
  },
  {
   "cell_type": "code",
   "execution_count": null,
   "metadata": {},
   "outputs": [],
   "source": [
    "slides.batch_text_replace(\n",
    "    {\n",
    "        'questions': 'Questions?',\n",
    "        'final_text': 'Thanks!',\n",
    "        'contact_info': 'Contact info:',\n",
    "        'twitter_ac': '@vperezb',\n",
    "        'github': '@vperezb',\n",
    "        'linkedin': 'https://www.linkedin.com/in/vperezb-/',\n",
    "        'medium': 'https://medium.com/@victor.perez.berruezo'\n",
    "    },\n",
    "    output_file\n",
    ")"
   ]
  },
  {
   "cell_type": "code",
   "execution_count": null,
   "metadata": {},
   "outputs": [],
   "source": [
    "slides.replace_shape_with_image('https://steamuserimages-a.akamaihd.net/ugc/835829308656967578/61ECB5961DD40FA06965A5FDA96F56D61634CAF8/', output_file, 'final_image')"
   ]
  },
  {
   "cell_type": "code",
   "execution_count": null,
   "metadata": {},
   "outputs": [],
   "source": []
  }
 ],
 "metadata": {
  "kernelspec": {
   "display_name": "Python 3",
   "language": "python",
   "name": "python3"
  },
  "language_info": {
   "codemirror_mode": {
    "name": "ipython",
    "version": 3
   },
   "file_extension": ".py",
   "mimetype": "text/x-python",
   "name": "python",
   "nbconvert_exporter": "python",
   "pygments_lexer": "ipython3",
   "version": "3.7.0"
  }
 },
 "nbformat": 4,
 "nbformat_minor": 2
}
