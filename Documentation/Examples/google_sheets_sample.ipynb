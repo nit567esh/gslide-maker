{
 "cells": [
  {
   "cell_type": "markdown",
   "metadata": {},
   "source": [
    "# In this notebook.\n",
    "\n",
    "* How to share a sheet with our Google Service Account.\n",
    "* How to retrieve all **sheet names** from a Google Sheets File.\n",
    "* How to read a Google Sheets Page into a pandas.dataframe.\n",
    "    * You can have a configs file which can be easily updated by other non-technical teams and download this values to change the behavoir of a given process. \n",
    "* How to upload a pandas.dataframe into Google Sheets File. \n",
    "    * You can share to an external team some flavoured and updated data without giving them any access to your system.\n",
    "    "
   ]
  },
  {
   "cell_type": "markdown",
   "metadata": {},
   "source": [
    "Import the functions."
   ]
  },
  {
   "cell_type": "code",
   "execution_count": 2,
   "metadata": {},
   "outputs": [],
   "source": [
    "import GoogleApiSupport.auth as auth"
   ]
  },
  {
   "cell_type": "markdown",
   "metadata": {},
   "source": [
    "Start sheets_service. We will need to pass this service in each call to the API."
   ]
  },
  {
   "cell_type": "code",
   "execution_count": 5,
   "metadata": {
    "collapsed": true
   },
   "outputs": [],
   "source": [
    "sheets_service = auth.get_service('sheets')"
   ]
  },
  {
   "cell_type": "markdown",
   "metadata": {},
   "source": [
    "### Share the sheet we want to edit with the \"user id\" we copied before.\n",
    "\n",
    "![Create a developers project](Documentation/img/share_sheet.png)"
   ]
  },
  {
   "cell_type": "markdown",
   "metadata": {},
   "source": [
    "### Copy the file id from the url\n",
    "\n",
    "![Create a developers project](img/sheet_1_e.png)"
   ]
  },
  {
   "cell_type": "markdown",
   "metadata": {},
   "source": [
    "### And use it to retrieve sheet names:"
   ]
  },
  {
   "cell_type": "code",
   "execution_count": 12,
   "metadata": {
    "collapsed": false
   },
   "outputs": [
    {
     "data": {
      "text/plain": [
       "['Plantilla', 'Hidden']"
      ]
     },
     "execution_count": 12,
     "metadata": {},
     "output_type": "execute_result"
    }
   ],
   "source": [
    "file_id = '1uOtJHfAIjXUEszbTu18qeTyb5GfhMcoUmHGCoouU8V4'\n",
    "sheet_names_list = sas.get_sheet_names(sheets_service,file_id)\n",
    "sheet_names_list"
   ]
  },
  {
   "cell_type": "markdown",
   "metadata": {},
   "source": [
    "### Now we can use the name to read the file"
   ]
  },
  {
   "cell_type": "code",
   "execution_count": 16,
   "metadata": {
    "collapsed": false,
    "scrolled": true
   },
   "outputs": [
    {
     "data": {
      "text/html": [
       "<div>\n",
       "<style scoped>\n",
       "    .dataframe tbody tr th:only-of-type {\n",
       "        vertical-align: middle;\n",
       "    }\n",
       "\n",
       "    .dataframe tbody tr th {\n",
       "        vertical-align: top;\n",
       "    }\n",
       "\n",
       "    .dataframe thead th {\n",
       "        text-align: right;\n",
       "    }\n",
       "</style>\n",
       "<table border=\"1\" class=\"dataframe\">\n",
       "  <thead>\n",
       "    <tr style=\"text-align: right;\">\n",
       "      <th></th>\n",
       "      <th>ORGANISME</th>\n",
       "      <th>GRUP</th>\n",
       "      <th>TIPUS</th>\n",
       "      <th>ANY D'EXECUCIÓ</th>\n",
       "      <th>EXPEDIENT</th>\n",
       "      <th>DESCRIPCIÓ</th>\n",
       "      <th>CLASSE (TRAMITACIÓ)</th>\n",
       "      <th>DESPESA ANTICIPADA</th>\n",
       "      <th>PRESSUPOST LICITACIÓ TOTAL (SENSE IVA)</th>\n",
       "      <th>PRESSUPOST LICITACIÓ TOTAL (AMB IVA)</th>\n",
       "      <th>...</th>\n",
       "      <th>DATA FI EXECUCIÓ</th>\n",
       "      <th>TERMINI: ANYS</th>\n",
       "      <th>TERMINI: MESOS</th>\n",
       "      <th>TERMINI: DIES</th>\n",
       "      <th>IMPORT ADJUDICACIÓ (SENSE IVA)</th>\n",
       "      <th>IMPORT ADJUDICACIÓ (AMB IVA)</th>\n",
       "      <th>TIPUS IVA</th>\n",
       "      <th>LLOC EXECUCIÓ</th>\n",
       "      <th>PAIS ORIGEN DEL PRODUCTE</th>\n",
       "      <th>IDENTIFICADOR</th>\n",
       "    </tr>\n",
       "  </thead>\n",
       "  <tbody>\n",
       "    <tr>\n",
       "      <th>0</th>\n",
       "      <td>90000269</td>\n",
       "      <td>PU</td>\n",
       "      <td>OB</td>\n",
       "      <td>2018</td>\n",
       "      <td>2018/574</td>\n",
       "      <td>Obres de reparació de la coberta del pavelló</td>\n",
       "      <td>O</td>\n",
       "      <td>No</td>\n",
       "      <td>30.428,10 €</td>\n",
       "      <td>36.818,01 €</td>\n",
       "      <td>...</td>\n",
       "      <td>9/5/2018</td>\n",
       "      <td></td>\n",
       "      <td></td>\n",
       "      <td></td>\n",
       "      <td>30.428,10 €</td>\n",
       "      <td>36.818,01 €</td>\n",
       "      <td>21</td>\n",
       "      <td>08</td>\n",
       "      <td></td>\n",
       "      <td>90000269-25-2018</td>\n",
       "    </tr>\n",
       "    <tr>\n",
       "      <th>1</th>\n",
       "      <td>90000269</td>\n",
       "      <td>PU</td>\n",
       "      <td>SE</td>\n",
       "      <td>2018</td>\n",
       "      <td>2018/93</td>\n",
       "      <td>Honoraris col·laboració d'arquitecte superior ...</td>\n",
       "      <td>O</td>\n",
       "      <td>No</td>\n",
       "      <td>17.450,00 €</td>\n",
       "      <td>21.114,50 €</td>\n",
       "      <td>...</td>\n",
       "      <td>2/5/2019</td>\n",
       "      <td>1</td>\n",
       "      <td>0</td>\n",
       "      <td>0</td>\n",
       "      <td>17.450,00 €</td>\n",
       "      <td>21.114,50 €</td>\n",
       "      <td>21</td>\n",
       "      <td>08</td>\n",
       "      <td></td>\n",
       "      <td>90000269-10-2018</td>\n",
       "    </tr>\n",
       "    <tr>\n",
       "      <th>2</th>\n",
       "      <td>90000269</td>\n",
       "      <td>PU</td>\n",
       "      <td>SE</td>\n",
       "      <td>2018</td>\n",
       "      <td>2017/4400</td>\n",
       "      <td>Servei d'assessorament i gestió en l'àmbit de ...</td>\n",
       "      <td>O</td>\n",
       "      <td>No</td>\n",
       "      <td>13.200,00 €</td>\n",
       "      <td>15.972,00 €</td>\n",
       "      <td>...</td>\n",
       "      <td>12/31/2018</td>\n",
       "      <td>0</td>\n",
       "      <td>10</td>\n",
       "      <td>29</td>\n",
       "      <td>13.200,00 €</td>\n",
       "      <td>15.972,00 €</td>\n",
       "      <td>21</td>\n",
       "      <td>08</td>\n",
       "      <td>None</td>\n",
       "      <td>None</td>\n",
       "    </tr>\n",
       "    <tr>\n",
       "      <th>3</th>\n",
       "      <td>90000269</td>\n",
       "      <td>PU</td>\n",
       "      <td>SE</td>\n",
       "      <td>2018</td>\n",
       "      <td>2018/341</td>\n",
       "      <td>Servei de reforç escolar</td>\n",
       "      <td>O</td>\n",
       "      <td>No</td>\n",
       "      <td>12.075,80 €</td>\n",
       "      <td>12.075,80 €</td>\n",
       "      <td>...</td>\n",
       "      <td>6/22/2018</td>\n",
       "      <td></td>\n",
       "      <td></td>\n",
       "      <td></td>\n",
       "      <td>12.075,80 €</td>\n",
       "      <td>12.075,80 €</td>\n",
       "      <td>0</td>\n",
       "      <td>08</td>\n",
       "      <td></td>\n",
       "      <td>90000269-18-2018</td>\n",
       "    </tr>\n",
       "    <tr>\n",
       "      <th>4</th>\n",
       "      <td>90000269</td>\n",
       "      <td>PU</td>\n",
       "      <td>SE</td>\n",
       "      <td>2018</td>\n",
       "      <td>2018/338</td>\n",
       "      <td>Servei d'assessorament jurídic al departament ...</td>\n",
       "      <td>O</td>\n",
       "      <td>No</td>\n",
       "      <td>10.800,00 €</td>\n",
       "      <td>13.068,00 €</td>\n",
       "      <td>...</td>\n",
       "      <td>12/31/2018</td>\n",
       "      <td></td>\n",
       "      <td></td>\n",
       "      <td></td>\n",
       "      <td>10.800,00 €</td>\n",
       "      <td>13.068,00 €</td>\n",
       "      <td>21</td>\n",
       "      <td>08</td>\n",
       "      <td></td>\n",
       "      <td>90000269-14-2018</td>\n",
       "    </tr>\n",
       "  </tbody>\n",
       "</table>\n",
       "<p>5 rows × 33 columns</p>\n",
       "</div>"
      ],
      "text/plain": [
       "  ORGANISME GRUP TIPUS  ANY D'EXECUCIÓ  EXPEDIENT  \\\n",
       "0  90000269   PU     OB           2018   2018/574   \n",
       "1  90000269   PU     SE           2018    2018/93   \n",
       "2  90000269   PU     SE           2018  2017/4400   \n",
       "3  90000269   PU     SE           2018   2018/341   \n",
       "4  90000269   PU     SE           2018   2018/338   \n",
       "\n",
       "                                          DESCRIPCIÓ CLASSE (TRAMITACIÓ)  \\\n",
       "0       Obres de reparació de la coberta del pavelló                   O   \n",
       "1  Honoraris col·laboració d'arquitecte superior ...                   O   \n",
       "2  Servei d'assessorament i gestió en l'àmbit de ...                   O   \n",
       "3                           Servei de reforç escolar                   O   \n",
       "4  Servei d'assessorament jurídic al departament ...                   O   \n",
       "\n",
       "  DESPESA ANTICIPADA PRESSUPOST LICITACIÓ TOTAL (SENSE IVA)  \\\n",
       "0                 No                            30.428,10 €   \n",
       "1                 No                            17.450,00 €   \n",
       "2                 No                            13.200,00 €   \n",
       "3                 No                            12.075,80 €   \n",
       "4                 No                            10.800,00 €   \n",
       "\n",
       "  PRESSUPOST LICITACIÓ TOTAL (AMB IVA)  ... DATA FI EXECUCIÓ TERMINI: ANYS  \\\n",
       "0                          36.818,01 €  ...         9/5/2018                 \n",
       "1                          21.114,50 €  ...         2/5/2019             1   \n",
       "2                          15.972,00 €  ...       12/31/2018             0   \n",
       "3                          12.075,80 €  ...        6/22/2018                 \n",
       "4                          13.068,00 €  ...       12/31/2018                 \n",
       "\n",
       "  TERMINI: MESOS TERMINI: DIES IMPORT ADJUDICACIÓ (SENSE IVA)  \\\n",
       "0                                                 30.428,10 €   \n",
       "1              0             0                    17.450,00 €   \n",
       "2             10            29                    13.200,00 €   \n",
       "3                                                 12.075,80 €   \n",
       "4                                                 10.800,00 €   \n",
       "\n",
       "  IMPORT ADJUDICACIÓ (AMB IVA) TIPUS IVA LLOC EXECUCIÓ  \\\n",
       "0                  36.818,01 €        21            08   \n",
       "1                  21.114,50 €        21            08   \n",
       "2                  15.972,00 €        21            08   \n",
       "3                  12.075,80 €         0            08   \n",
       "4                  13.068,00 €        21            08   \n",
       "\n",
       "  PAIS ORIGEN DEL PRODUCTE     IDENTIFICADOR  \n",
       "0                           90000269-25-2018  \n",
       "1                           90000269-10-2018  \n",
       "2                     None              None  \n",
       "3                           90000269-18-2018  \n",
       "4                           90000269-14-2018  \n",
       "\n",
       "[5 rows x 33 columns]"
      ]
     },
     "execution_count": 16,
     "metadata": {},
     "output_type": "execute_result"
    }
   ],
   "source": [
    "df_from_drive = sas.sheet_to_pandas(\n",
    "    sheets_service, \n",
    "    '1uOtJHfAIjXUEszbTu18qeTyb5GfhMcoUmHGCoouU8V4', # Id of the spreadsheet\n",
    "    sheet_names_list[0] # Name of the sheet\n",
    ")\n",
    "df_from_drive.head()"
   ]
  },
  {
   "cell_type": "markdown",
   "metadata": {},
   "source": [
    "### Finally we can upload a custom df"
   ]
  },
  {
   "cell_type": "code",
   "execution_count": 17,
   "metadata": {
    "collapsed": false
   },
   "outputs": [
    {
     "data": {
      "text/html": [
       "<div>\n",
       "<style scoped>\n",
       "    .dataframe tbody tr th:only-of-type {\n",
       "        vertical-align: middle;\n",
       "    }\n",
       "\n",
       "    .dataframe tbody tr th {\n",
       "        vertical-align: top;\n",
       "    }\n",
       "\n",
       "    .dataframe thead th {\n",
       "        text-align: right;\n",
       "    }\n",
       "</style>\n",
       "<table border=\"1\" class=\"dataframe\">\n",
       "  <thead>\n",
       "    <tr style=\"text-align: right;\">\n",
       "      <th></th>\n",
       "      <th>r</th>\n",
       "      <th>o</th>\n",
       "      <th>c</th>\n",
       "    </tr>\n",
       "  </thead>\n",
       "  <tbody>\n",
       "    <tr>\n",
       "      <th>0</th>\n",
       "      <td>3</td>\n",
       "      <td>9</td>\n",
       "      <td>9</td>\n",
       "    </tr>\n",
       "    <tr>\n",
       "      <th>1</th>\n",
       "      <td>9</td>\n",
       "      <td>9</td>\n",
       "      <td>4</td>\n",
       "    </tr>\n",
       "    <tr>\n",
       "      <th>2</th>\n",
       "      <td>3</td>\n",
       "      <td>4</td>\n",
       "      <td>5</td>\n",
       "    </tr>\n",
       "  </tbody>\n",
       "</table>\n",
       "</div>"
      ],
      "text/plain": [
       "   r  o  c\n",
       "0  3  9  9\n",
       "1  9  9  4\n",
       "2  3  4  5"
      ]
     },
     "execution_count": 17,
     "metadata": {},
     "output_type": "execute_result"
    }
   ],
   "source": [
    "import pandas as pd\n",
    "\n",
    "dat = pd.DataFrame([[3,9,9],[9,9,4],[3,4,5]], columns = ['r','o','c'])\n",
    "dat"
   ]
  },
  {
   "cell_type": "code",
   "execution_count": 18,
   "metadata": {
    "collapsed": true
   },
   "outputs": [],
   "source": [
    "sas.pandas_to_sheet(sheets_service,'1uOtJHfAIjXUEszbTu18qeTyb5GfhMcoUmHGCoouU8V4', 'Hoja 1', dat);"
   ]
  },
  {
   "cell_type": "markdown",
   "metadata": {},
   "source": [
    "### And that's the result\n",
    "\n",
    "![Create a developers project](img/sheet_2.png)"
   ]
  }
 ],
 "metadata": {
  "anaconda-cloud": {},
  "kernelspec": {
   "display_name": "Python 3",
   "language": "python",
   "name": "python3"
  },
  "language_info": {
   "codemirror_mode": {
    "name": "ipython",
    "version": 3
   },
   "file_extension": ".py",
   "mimetype": "text/x-python",
   "name": "python",
   "nbconvert_exporter": "python",
   "pygments_lexer": "ipython3",
   "version": "3.7.0"
  }
 },
 "nbformat": 4,
 "nbformat_minor": 2
}
